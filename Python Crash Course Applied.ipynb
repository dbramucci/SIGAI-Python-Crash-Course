{
 "cells": [
  {
   "cell_type": "markdown",
   "metadata": {},
   "source": [
    "<center>\n",
    "<h1> Crash Course to Python </h1>\n",
    "<h2> By: Danny Bramucci </h2>\n",
    "<h2> February 2, 2017 </h2>\n",
    "</center>"
   ]
  },
  {
   "cell_type": "markdown",
   "metadata": {},
   "source": [
    "# Our first program"
   ]
  },
  {
   "cell_type": "code",
   "execution_count": 2,
   "metadata": {
    "collapsed": false
   },
   "outputs": [
    {
     "name": "stdout",
     "output_type": "stream",
     "text": [
      "Hello World!\n"
     ]
    }
   ],
   "source": [
    "print('Hello World!')"
   ]
  },
  {
   "cell_type": "markdown",
   "metadata": {},
   "source": [
    "## Remarks\n",
    "* That wasn't very hard.\n",
    "* Notice that unlike Java, we don't need to have a class and unlike Java and C we don't need a `main` method.\n",
    "* To write to the screen we need to use the `print` function. [print docs](https://docs.python.org/3/library/functions.html#print)\n",
    "* strings can be written using either single or double quotes `'hi'` or `\"hi\"` are both the same\n",
    "* Great, but can we write a program that does more than print something."
   ]
  },
  {
   "cell_type": "markdown",
   "metadata": {},
   "source": [
    "# The Parrot Program Ver 1"
   ]
  },
  {
   "cell_type": "code",
   "execution_count": null,
   "metadata": {
    "collapsed": false
   },
   "outputs": [],
   "source": [
    "x = input()\n",
    "print(x)"
   ]
  },
  {
   "cell_type": "markdown",
   "metadata": {},
   "source": [
    "## Remarks\n",
    "* Cool but can we prompt the user for input/"
   ]
  },
  {
   "cell_type": "code",
   "execution_count": null,
   "metadata": {
    "collapsed": false
   },
   "outputs": [],
   "source": [
    "x = input('Let me parrot you: ')\n",
    "print(x)"
   ]
  },
  {
   "cell_type": "markdown",
   "metadata": {},
   "source": [
    "## Remarks\n",
    "* the `input` function gets input from the user.\n",
    "* `input` with no arguments will just receive input from the user but `input` will print a string if given one.\n",
    "* Although it's hard to see, `input` doesn't jump to the next line while `print` by default does. See the following example."
   ]
  },
  {
   "cell_type": "code",
   "execution_count": null,
   "metadata": {
    "collapsed": false
   },
   "outputs": [],
   "source": [
    "x = input('Let me parrot you: ')\n",
    "print(x)\n",
    "\n",
    "print('--------------------')\n",
    "\n",
    "print('Let me parrot you: ')\n",
    "x = input()\n",
    "print(x)"
   ]
  },
  {
   "cell_type": "markdown",
   "metadata": {},
   "source": [
    "# The Knights Program\n",
    "* Let's write a program that allows us to do something to the users input."
   ]
  },
  {
   "cell_type": "code",
   "execution_count": null,
   "metadata": {
    "collapsed": false
   },
   "outputs": [],
   "source": [
    "users_text = input('Say what: ')\n",
    "response = 'The knights who say ' + users_text\n",
    "print(response)"
   ]
  },
  {
   "cell_type": "markdown",
   "metadata": {},
   "source": [
    "## Remarks\n",
    "* To combine two strings use the `+` operator. This is called concatenation.\n",
    "* Note that concatenation does not add a space between the strings."
   ]
  },
  {
   "cell_type": "markdown",
   "metadata": {},
   "source": [
    "# The Simple Calculator Program\n",
    "* Let's write a program that will take two numbers and add them together"
   ]
  },
  {
   "cell_type": "code",
   "execution_count": null,
   "metadata": {
    "collapsed": false
   },
   "outputs": [],
   "source": [
    "num1 = input('Number 1: ')\n",
    "num2 = input('Number 2: ')\n",
    "ans = num1 + num2\n",
    "print(ans)"
   ]
  },
  {
   "cell_type": "markdown",
   "metadata": {},
   "source": [
    "## Huh\n",
    "Why did this program break"
   ]
  },
  {
   "cell_type": "code",
   "execution_count": null,
   "metadata": {
    "collapsed": false
   },
   "outputs": [],
   "source": [
    "num1 = input('Number 1: ')\n",
    "num2 = input('Number 2: ')\n",
    "ans = num1 + num2\n",
    "print(type(ans))"
   ]
  },
  {
   "cell_type": "markdown",
   "metadata": {},
   "source": [
    "* Printing the type as shown by the `type` function reveals that input gives strings so when we add two strings all we are really doing is concatenating two srings.\n",
    "* To fix this we have to convert to a numeric type, we can do this with the `int` function"
   ]
  },
  {
   "cell_type": "code",
   "execution_count": null,
   "metadata": {
    "collapsed": false
   },
   "outputs": [],
   "source": [
    "num1 = int(input('Number 1: '))\n",
    "num2 = int(input('Number 2: '))\n",
    "ans = num1 + num2\n",
    "print(ans)"
   ]
  },
  {
   "cell_type": "markdown",
   "metadata": {},
   "source": [
    "* This is better but it doesn't work for non-integers\n",
    "* `float` is similar but creates floats instead of `ints`.\n",
    "    * There is no difference between floats and doubles in python, it's always a float. (note that python floats are like doubles in other languages)"
   ]
  },
  {
   "cell_type": "code",
   "execution_count": null,
   "metadata": {
    "collapsed": false
   },
   "outputs": [],
   "source": [
    "num1 = float(input('Number 1: '))\n",
    "num2 = float(input('Number 2: '))\n",
    "ans = num1 + num2\n",
    "print(ans)"
   ]
  },
  {
   "cell_type": "markdown",
   "metadata": {},
   "source": [
    "* Silly side note\n",
    "* We can extend this to complex numbers using the `complex` function, but we don't have the time to dwell on this"
   ]
  },
  {
   "cell_type": "code",
   "execution_count": null,
   "metadata": {
    "collapsed": false
   },
   "outputs": [],
   "source": [
    "num1 = complex(input('Number 1: '))\n",
    "num2 = complex(input('Number 2: '))\n",
    "ans = num1 + num2\n",
    "print(ans)"
   ]
  },
  {
   "cell_type": "markdown",
   "metadata": {},
   "source": [
    "## Adding formatting to the user input"
   ]
  },
  {
   "cell_type": "code",
   "execution_count": null,
   "metadata": {
    "collapsed": false
   },
   "outputs": [],
   "source": [
    "num1 = float(input('Number 1: '))\n",
    "num2 = float(input('Number 2: '))\n",
    "ans = num1 + num2\n",
    "result = 'the ans is ' + ans\n",
    "print(result)"
   ]
  },
  {
   "cell_type": "markdown",
   "metadata": {},
   "source": [
    "## More errors\n",
    "* We got an error because we cannot add a str (short for string) to a float.\n",
    "    * This is a good thing because it prevents us from missing mistakes if we forget to convert a str into a float.\n",
    "* To fix this we can explicitly convert the float to a str"
   ]
  },
  {
   "cell_type": "code",
   "execution_count": null,
   "metadata": {
    "collapsed": false
   },
   "outputs": [],
   "source": [
    "num1 = float(input('Number 1: '))\n",
    "num2 = float(input('Number 2: '))\n",
    "ans = num1 + num2\n",
    "result = 'the ans is ' + str(ans)\n",
    "print(result)"
   ]
  },
  {
   "cell_type": "markdown",
   "metadata": {},
   "source": [
    "## Remarks\n",
    "* input returns strings so we have to first convert the users input to the type we need.\n",
    "* We cannot add strings to floats so we have to convert first."
   ]
  },
  {
   "cell_type": "markdown",
   "metadata": {},
   "source": [
    "# The Forceful Conversation program"
   ]
  },
  {
   "cell_type": "code",
   "execution_count": 4,
   "metadata": {
    "collapsed": false
   },
   "outputs": [
    {
     "name": "stdout",
     "output_type": "stream",
     "text": [
      "What's your favorite color? blue\n",
      "What's your favorite color? green\n",
      "What's your favorite color? red\n",
      "What's your favorite color? pur\n",
      "What's your favorite color? Purple\n",
      "What's your favorite color? purple\n",
      "Your favorite color is purple\n"
     ]
    }
   ],
   "source": [
    "favorite_color = input(\"What's your favorite color? \")\n",
    "while favorite_color != 'purple':\n",
    "    favorite_color = input(\"What's your favorite color? \")\n",
    "print('Your favorite color is ' + favorite_color)"
   ]
  },
  {
   "cell_type": "markdown",
   "metadata": {},
   "source": [
    "## Remarks\n",
    "* To loop until a certain condition is satisfied use a while loop.\n",
    "* The syntax is simple"
   ]
  },
  {
   "cell_type": "markdown",
   "metadata": {},
   "source": [
    "# Counting sheep program"
   ]
  },
  {
   "cell_type": "code",
   "execution_count": 12,
   "metadata": {
    "collapsed": false
   },
   "outputs": [
    {
     "name": "stdout",
     "output_type": "stream",
     "text": [
      "How many sheep? 2\n",
      "How many sheep? 6\n",
      "How many sheep? 4\n",
      "How many sheep? 6\n",
      "How many sheep? 9\n",
      "How many sheep? 6\n",
      "How many sheep? 4\n",
      "How many sheep? 2\n",
      "How many sheep? 5\n",
      "How many sheep? 8\n",
      "You saw 52 sheep!\n"
     ]
    }
   ],
   "source": [
    "sheep_seen = 0\n",
    "for i in range(10):\n",
    "    sheep_seen += int(input('How many sheep? '))\n",
    "print(f'You saw ' + str(sheep_seen) + ' sheep!')"
   ]
  },
  {
   "cell_type": "markdown",
   "metadata": {},
   "source": [
    "* Well that was strange"
   ]
  }
 ],
 "metadata": {
  "anaconda-cloud": {},
  "kernelspec": {
   "display_name": "Python 3",
   "language": "python",
   "name": "python3"
  },
  "language_info": {
   "codemirror_mode": {
    "name": "ipython",
    "version": 3
   },
   "file_extension": ".py",
   "mimetype": "text/x-python",
   "name": "python",
   "nbconvert_exporter": "python",
   "pygments_lexer": "ipython3",
   "version": "3.6.0"
  }
 },
 "nbformat": 4,
 "nbformat_minor": 1
}
