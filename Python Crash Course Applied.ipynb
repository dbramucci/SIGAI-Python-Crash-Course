{
 "cells": [
  {
   "cell_type": "markdown",
   "metadata": {},
   "source": [
    "<center>\n",
    "<h1> Crash Course to Python </h1>\n",
    "<h2> By: Danny Bramucci </h2>\n",
    "<h2> February 2, 2017 </h2>\n",
    "</center>"
   ]
  },
  {
   "cell_type": "markdown",
   "metadata": {},
   "source": [
    "# Our first program"
   ]
  },
  {
   "cell_type": "code",
   "execution_count": 1,
   "metadata": {
    "collapsed": false
   },
   "outputs": [
    {
     "name": "stdout",
     "output_type": "stream",
     "text": [
      "Hello World!\n"
     ]
    }
   ],
   "source": [
    "print('Hello World!')"
   ]
  },
  {
   "cell_type": "markdown",
   "metadata": {},
   "source": [
    "## Remarks\n",
    "* That wasn't very hard.\n",
    "* Notice that unlike Java, we don't need to have a class and unlike Java and C we don't need a `main` method.\n",
    "* To write to the screen we need to use the `print` function. [print docs](https://docs.python.org/3/library/functions.html#print)\n",
    "* strings can be written using either single or double quotes `'hi'` or `\"hi\"` are both the same\n",
    "* Great, but can we write a program that does more than print something."
   ]
  },
  {
   "cell_type": "markdown",
   "metadata": {},
   "source": [
    "# The Parrot Program Ver 1"
   ]
  },
  {
   "cell_type": "code",
   "execution_count": 2,
   "metadata": {
    "collapsed": false
   },
   "outputs": [
    {
     "name": "stdout",
     "output_type": "stream",
     "text": [
      "Say what?\n",
      "Say what?\n"
     ]
    }
   ],
   "source": [
    "x = input()\n",
    "print(x)"
   ]
  },
  {
   "cell_type": "markdown",
   "metadata": {},
   "source": [
    "## Remarks\n",
    "* Cool but can we prompt the user for input/"
   ]
  },
  {
   "cell_type": "code",
   "execution_count": 3,
   "metadata": {
    "collapsed": false
   },
   "outputs": [
    {
     "name": "stdout",
     "output_type": "stream",
     "text": [
      "Let me parrot you: Okay\n",
      "Okay\n"
     ]
    }
   ],
   "source": [
    "x = input('Let me parrot you: ')\n",
    "print(x)"
   ]
  },
  {
   "cell_type": "markdown",
   "metadata": {},
   "source": [
    "## Remarks\n",
    "* the `input` function gets input from the user.\n",
    "* `input` with no arguments will just receive input from the user but `input` will print a string if given one.\n",
    "* Although it's hard to see, `input` doesn't jump to the next line while `print` by default does. See the following example."
   ]
  },
  {
   "cell_type": "code",
   "execution_count": 4,
   "metadata": {
    "collapsed": false
   },
   "outputs": [
    {
     "name": "stdout",
     "output_type": "stream",
     "text": [
      "Let me parrot you: Again?\n",
      "Again?\n",
      "--------------------\n",
      "Let me parrot you: \n",
      "Again?\n",
      "Again?\n"
     ]
    }
   ],
   "source": [
    "x = input('Let me parrot you: ')\n",
    "print(x)\n",
    "\n",
    "print('--------------------')\n",
    "\n",
    "print('Let me parrot you: ')\n",
    "x = input()\n",
    "print(x)"
   ]
  },
  {
   "cell_type": "markdown",
   "metadata": {},
   "source": [
    "# The Knights Program\n",
    "* Let's write a program that allows us to do something to the users input."
   ]
  },
  {
   "cell_type": "code",
   "execution_count": 5,
   "metadata": {
    "collapsed": false
   },
   "outputs": [
    {
     "name": "stdout",
     "output_type": "stream",
     "text": [
      "Say what: ni\n",
      "The knights who say ni\n"
     ]
    }
   ],
   "source": [
    "users_text = input('Say what: ')\n",
    "response = 'The knights who say ' + users_text\n",
    "print(response)"
   ]
  },
  {
   "cell_type": "markdown",
   "metadata": {},
   "source": [
    "## Remarks\n",
    "* To combine two strings use the `+` operator. This is called concatenation.\n",
    "* Note that concatenation does not add a space between the strings."
   ]
  },
  {
   "cell_type": "markdown",
   "metadata": {},
   "source": [
    "# The Simple Calculator Program\n",
    "* Let's write a program that will take two numbers and add them together"
   ]
  },
  {
   "cell_type": "code",
   "execution_count": 6,
   "metadata": {
    "collapsed": false
   },
   "outputs": [
    {
     "name": "stdout",
     "output_type": "stream",
     "text": [
      "Number 1: 1\n",
      "Number 2: 2\n",
      "12\n"
     ]
    }
   ],
   "source": [
    "num1 = input('Number 1: ')\n",
    "num2 = input('Number 2: ')\n",
    "ans = num1 + num2\n",
    "print(ans)"
   ]
  },
  {
   "cell_type": "markdown",
   "metadata": {},
   "source": [
    "## Huh\n",
    "Why did this program break"
   ]
  },
  {
   "cell_type": "code",
   "execution_count": 7,
   "metadata": {
    "collapsed": false
   },
   "outputs": [
    {
     "name": "stdout",
     "output_type": "stream",
     "text": [
      "Number 1: 1\n",
      "Number 2: 2\n",
      "<class 'str'>\n"
     ]
    }
   ],
   "source": [
    "num1 = input('Number 1: ')\n",
    "num2 = input('Number 2: ')\n",
    "ans = num1 + num2\n",
    "print(type(ans))"
   ]
  },
  {
   "cell_type": "markdown",
   "metadata": {},
   "source": [
    "* Printing the type as shown by the `type` function reveals that input gives strings so when we add two strings all we are really doing is concatenating two srings.\n",
    "* To fix this we have to convert to a numeric type, we can do this with the `int` function"
   ]
  },
  {
   "cell_type": "code",
   "execution_count": 8,
   "metadata": {
    "collapsed": false
   },
   "outputs": [
    {
     "name": "stdout",
     "output_type": "stream",
     "text": [
      "Number 1: 1\n",
      "Number 2: 2\n",
      "3\n"
     ]
    }
   ],
   "source": [
    "num1 = int(input('Number 1: '))\n",
    "num2 = int(input('Number 2: '))\n",
    "ans = num1 + num2\n",
    "print(ans)"
   ]
  },
  {
   "cell_type": "markdown",
   "metadata": {},
   "source": [
    "* This is better but it doesn't work for non-integers\n",
    "* `float` is similar but creates floats instead of `ints`.\n",
    "    * There is no difference between floats and doubles in python, it's always a float. (note that python floats are like doubles in other languages)"
   ]
  },
  {
   "cell_type": "code",
   "execution_count": 9,
   "metadata": {
    "collapsed": false
   },
   "outputs": [
    {
     "name": "stdout",
     "output_type": "stream",
     "text": [
      "Number 1: 1.2\n",
      "Number 2: 3.4\n",
      "4.6\n"
     ]
    }
   ],
   "source": [
    "num1 = float(input('Number 1: '))\n",
    "num2 = float(input('Number 2: '))\n",
    "ans = num1 + num2\n",
    "print(ans)"
   ]
  },
  {
   "cell_type": "markdown",
   "metadata": {},
   "source": [
    "* Silly side note\n",
    "* We can extend this to complex numbers using the `complex` function, but we don't have the time to dwell on this"
   ]
  },
  {
   "cell_type": "code",
   "execution_count": 10,
   "metadata": {
    "collapsed": false
   },
   "outputs": [
    {
     "name": "stdout",
     "output_type": "stream",
     "text": [
      "Number 1: 1+3j\n",
      "Number 2: 4-2j\n",
      "(5+1j)\n"
     ]
    }
   ],
   "source": [
    "num1 = complex(input('Number 1: '))\n",
    "num2 = complex(input('Number 2: '))\n",
    "ans = num1 + num2\n",
    "print(ans)"
   ]
  },
  {
   "cell_type": "markdown",
   "metadata": {},
   "source": [
    "## Adding formatting to the user input"
   ]
  },
  {
   "cell_type": "code",
   "execution_count": 11,
   "metadata": {
    "collapsed": false
   },
   "outputs": [
    {
     "name": "stdout",
     "output_type": "stream",
     "text": [
      "Number 1: 1.3\n",
      "Number 2: 2\n"
     ]
    },
    {
     "ename": "TypeError",
     "evalue": "must be str, not float",
     "output_type": "error",
     "traceback": [
      "\u001b[0;31m---------------------------------------------------------------------------\u001b[0m",
      "\u001b[0;31mTypeError\u001b[0m                                 Traceback (most recent call last)",
      "\u001b[0;32m<ipython-input-11-d56cdfc0147c>\u001b[0m in \u001b[0;36m<module>\u001b[0;34m()\u001b[0m\n\u001b[1;32m      2\u001b[0m \u001b[0mnum2\u001b[0m \u001b[1;33m=\u001b[0m \u001b[0mfloat\u001b[0m\u001b[1;33m(\u001b[0m\u001b[0minput\u001b[0m\u001b[1;33m(\u001b[0m\u001b[1;34m'Number 2: '\u001b[0m\u001b[1;33m)\u001b[0m\u001b[1;33m)\u001b[0m\u001b[1;33m\u001b[0m\u001b[0m\n\u001b[1;32m      3\u001b[0m \u001b[0mans\u001b[0m \u001b[1;33m=\u001b[0m \u001b[0mnum1\u001b[0m \u001b[1;33m+\u001b[0m \u001b[0mnum2\u001b[0m\u001b[1;33m\u001b[0m\u001b[0m\n\u001b[0;32m----> 4\u001b[0;31m \u001b[0mresult\u001b[0m \u001b[1;33m=\u001b[0m \u001b[1;34m'the ans is '\u001b[0m \u001b[1;33m+\u001b[0m \u001b[0mans\u001b[0m\u001b[1;33m\u001b[0m\u001b[0m\n\u001b[0m\u001b[1;32m      5\u001b[0m \u001b[0mprint\u001b[0m\u001b[1;33m(\u001b[0m\u001b[0mresult\u001b[0m\u001b[1;33m)\u001b[0m\u001b[1;33m\u001b[0m\u001b[0m\n",
      "\u001b[0;31mTypeError\u001b[0m: must be str, not float"
     ]
    }
   ],
   "source": [
    "num1 = float(input('Number 1: '))\n",
    "num2 = float(input('Number 2: '))\n",
    "ans = num1 + num2\n",
    "result = 'the ans is ' + ans\n",
    "print(result)"
   ]
  },
  {
   "cell_type": "markdown",
   "metadata": {},
   "source": [
    "## More errors\n",
    "* We got an error because we cannot add a str (short for string) to a float.\n",
    "    * This is a good thing because it prevents us from missing mistakes if we forget to convert a str into a float.\n",
    "* To fix this we can explicitly convert the float to a str"
   ]
  },
  {
   "cell_type": "code",
   "execution_count": 12,
   "metadata": {
    "collapsed": false
   },
   "outputs": [
    {
     "name": "stdout",
     "output_type": "stream",
     "text": [
      "Number 1: 1\n",
      "Number 2: 2.3\n",
      "the ans is 3.3\n"
     ]
    }
   ],
   "source": [
    "num1 = float(input('Number 1: '))\n",
    "num2 = float(input('Number 2: '))\n",
    "ans = num1 + num2\n",
    "result = 'the ans is ' + str(ans)\n",
    "print(result)"
   ]
  },
  {
   "cell_type": "markdown",
   "metadata": {},
   "source": [
    "## Remarks\n",
    "* input returns strings so we have to first convert the users input to the type we need.\n",
    "* We cannot add strings to floats so we have to convert first."
   ]
  },
  {
   "cell_type": "markdown",
   "metadata": {},
   "source": [
    "# The Forceful Conversation program"
   ]
  },
  {
   "cell_type": "code",
   "execution_count": 13,
   "metadata": {
    "collapsed": false
   },
   "outputs": [
    {
     "name": "stdout",
     "output_type": "stream",
     "text": [
      "What's your favorite color? Blue\n",
      "What's your favorite color? Green\n",
      "What's your favorite color? Purple\n",
      "What's your favorite color? purple\n",
      "Your favorite color is purple\n"
     ]
    }
   ],
   "source": [
    "favorite_color = input(\"What's your favorite color? \")\n",
    "while favorite_color != 'purple':\n",
    "    favorite_color = input(\"What's your favorite color? \")\n",
    "print('Your favorite color is ' + favorite_color)"
   ]
  },
  {
   "cell_type": "markdown",
   "metadata": {},
   "source": [
    "## Remarks\n",
    "* To loop until a certain condition is satisfied use a while loop.\n",
    "* The syntax is simple"
   ]
  },
  {
   "cell_type": "markdown",
   "metadata": {},
   "source": [
    "# Super Parot\n",
    "* Let's recall the parot program but let's make it even better\n",
    "* Let's make it ask for 5 things and then tell you back the five things"
   ]
  },
  {
   "cell_type": "code",
   "execution_count": 14,
   "metadata": {
    "collapsed": false
   },
   "outputs": [
    {
     "name": "stdout",
     "output_type": "stream",
     "text": [
      "Say what? Hello\n",
      "Say what? There\n",
      "Say what? Can\n",
      "Say what? You\n",
      "Say what? Repeat Me\n",
      "Hello\n",
      "There\n",
      "Can\n",
      "You\n",
      "Repeat Me\n"
     ]
    }
   ],
   "source": [
    "user_text1 = input('Say what? ')\n",
    "user_text2 = input('Say what? ')\n",
    "user_text3 = input('Say what? ')\n",
    "user_text4 = input('Say what? ')\n",
    "user_text5 = input('Say what? ')\n",
    "print(user_text1)\n",
    "print(user_text2)\n",
    "print(user_text3)\n",
    "print(user_text4)\n",
    "print(user_text5)"
   ]
  },
  {
   "cell_type": "markdown",
   "metadata": {},
   "source": [
    "## Problem\n",
    "* We are repeating ourselves a lot. Let's reduce this repetition using a loop."
   ]
  },
  {
   "cell_type": "code",
   "execution_count": 15,
   "metadata": {
    "collapsed": false
   },
   "outputs": [
    {
     "name": "stdout",
     "output_type": "stream",
     "text": [
      "Say what? More stuff\n",
      "Say what? to say\n",
      "Say what? for the program\n",
      "Say what? will\n",
      "Say what? repeat me\n",
      "repeat me\n",
      "repeat me\n",
      "repeat me\n",
      "repeat me\n",
      "repeat me\n"
     ]
    }
   ],
   "source": [
    "i = 0\n",
    "while i < 5:\n",
    "    user_text = input('Say what? ')\n",
    "    i = i + 1\n",
    "\n",
    "\n",
    "i = 0\n",
    "while i < 5:\n",
    "    print(user_text)\n",
    "    i = i + 1"
   ]
  },
  {
   "cell_type": "markdown",
   "metadata": {},
   "source": [
    "## Problem\n",
    "* Our code only says the last thing you said, we need a way to programatically refer to a bunch of related values by the same name. Answer lists."
   ]
  },
  {
   "cell_type": "code",
   "execution_count": 16,
   "metadata": {
    "collapsed": false
   },
   "outputs": [
    {
     "name": "stdout",
     "output_type": "stream",
     "text": [
      "Say what? Can\n",
      "Say what? you\n",
      "Say what? do this\n",
      "Say what? right\n",
      "Say what? this time?\n",
      "Can\n",
      "you\n",
      "do this\n",
      "right\n",
      "this time?\n"
     ]
    }
   ],
   "source": [
    "lines = []\n",
    "lines.append(input('Say what? '))\n",
    "lines.append(input('Say what? '))\n",
    "lines.append(input('Say what? '))\n",
    "lines.append(input('Say what? '))\n",
    "lines.append(input('Say what? '))\n",
    "print(lines[0])\n",
    "print(lines[1])\n",
    "print(lines[2])\n",
    "print(lines[3])\n",
    "print(lines[4])"
   ]
  },
  {
   "cell_type": "code",
   "execution_count": 17,
   "metadata": {
    "collapsed": false
   },
   "outputs": [
    {
     "name": "stdout",
     "output_type": "stream",
     "text": [
      "Say what? les code\n",
      "Say what? n'est pas\n",
      "Say what? tres\n",
      "Say what? bien\n",
      "Say what? pour moi\n",
      "les code\n",
      "n'est pas\n",
      "tres\n",
      "bien\n",
      "pour moi\n"
     ]
    }
   ],
   "source": [
    "lines = []\n",
    "i = 0\n",
    "while i < 5:\n",
    "    lines.append(input('Say what? '))\n",
    "    i = i + 1\n",
    "i = 0\n",
    "while i < 5:\n",
    "    print(lines[i])\n",
    "    i = i + 1"
   ]
  },
  {
   "cell_type": "markdown",
   "metadata": {},
   "source": [
    "## Let's refactor (improve our code)"
   ]
  },
  {
   "cell_type": "code",
   "execution_count": 18,
   "metadata": {
    "collapsed": false
   },
   "outputs": [
    {
     "name": "stdout",
     "output_type": "stream",
     "text": [
      "Say what? less\n",
      "Say what? code\n",
      "Say what? for\n",
      "Say what? this\n",
      "Say what? now\n",
      "less\n",
      "code\n",
      "for\n",
      "this\n",
      "now\n"
     ]
    }
   ],
   "source": [
    "lines = []\n",
    "i = 0\n",
    "\n",
    "while i < 5:\n",
    "    lines.append(input('Say what? '))\n",
    "    i = i + 1\n",
    "\n",
    "for line in lines:\n",
    "    print(line)"
   ]
  },
  {
   "cell_type": "code",
   "execution_count": 19,
   "metadata": {
    "collapsed": false
   },
   "outputs": [
    {
     "name": "stdout",
     "output_type": "stream",
     "text": [
      "Say what? this\n",
      "Say what? is\n",
      "Say what? much\n",
      "Say what? better\n",
      "Say what? right?\n",
      "this\n",
      "is\n",
      "much\n",
      "better\n",
      "right?\n"
     ]
    }
   ],
   "source": [
    "lines = []\n",
    "for i in range(5):\n",
    "    lines.append(input('Say what? '))\n",
    "\n",
    "for line in lines:\n",
    "    print(line)"
   ]
  },
  {
   "cell_type": "markdown",
   "metadata": {},
   "source": [
    "# Talking about the above\n",
    "* lists let us store as many pieces of data that we want and is useful with loops\n",
    "* While loops are nice but keeping track of the indices and so forth is tedious and easy to introduce bugs.\n",
    "* for loops look really different in python\n",
    "* if you know of `foreach` loops, those are called `for` loops in python.\n",
    "* for loops in the form of `for(int i = 0; i < 10; i++) {print(i);}` doesn't exist in python.\n",
    "* If you want that you have to write\n",
    "* most of the time you can solve your problems in a niceway using for loops instead of while loops\n",
    "```python\n",
    "i = 0\n",
    "while i < 10:\n",
    "    print(i)\n",
    "    i++\n",
    "```"
   ]
  },
  {
   "cell_type": "markdown",
   "metadata": {},
   "source": [
    "## Counting sheep program"
   ]
  },
  {
   "cell_type": "code",
   "execution_count": 20,
   "metadata": {
    "collapsed": false
   },
   "outputs": [
    {
     "name": "stdout",
     "output_type": "stream",
     "text": [
      "How many sheep? 1\n",
      "How many sheep? 4\n",
      "How many sheep? 23\n",
      "How many sheep? 5\n",
      "How many sheep? 45\n",
      "How many sheep? 23\n",
      "How many sheep? 54\n",
      "How many sheep? 96\n",
      "How many sheep? 2\n",
      "How many sheep? 32\n",
      "You saw 285 sheep!\n"
     ]
    }
   ],
   "source": [
    "sheep_seen = 0\n",
    "for i in range(10):\n",
    "    sheep_seen += int(input('How many sheep? '))\n",
    "print(f'You saw ' + str(sheep_seen) + ' sheep!')"
   ]
  },
  {
   "cell_type": "markdown",
   "metadata": {},
   "source": [
    "# Lists"
   ]
  },
  {
   "cell_type": "code",
   "execution_count": 21,
   "metadata": {
    "collapsed": false
   },
   "outputs": [
    {
     "name": "stdout",
     "output_type": "stream",
     "text": [
      "[2, 3, 5]\n"
     ]
    }
   ],
   "source": [
    "# first let's make an empty list\n",
    "primes = []\n",
    "primes.append(2)\n",
    "primes.append(3)\n",
    "primes.append(5)\n",
    "print(primes)"
   ]
  },
  {
   "cell_type": "code",
   "execution_count": 22,
   "metadata": {
    "collapsed": false
   },
   "outputs": [
    {
     "name": "stdout",
     "output_type": "stream",
     "text": [
      "[2, 3, 5]\n"
     ]
    }
   ],
   "source": [
    "# That was tedious let's do this in a nicer way\n",
    "primes = [2, 3, 5]\n",
    "print(primes)"
   ]
  },
  {
   "cell_type": "markdown",
   "metadata": {},
   "source": [
    "# The range function\n",
    "The `range` returns a special object that you can loop over.\n",
    "\n",
    "The difference between what range returns and a list is like if I asked you to count and say all of the numbers between 1 and 100, you wouldn't make a list of all of the numbers and then loop over it, this would be like thinking of all the numbers together and then say each one, you would think of one number at a time, say it and forget it.\n",
    "\n",
    "The takeaway, `range` and things like it require you to call the list function on it if you want a list."
   ]
  },
  {
   "cell_type": "code",
   "execution_count": 23,
   "metadata": {
    "collapsed": false
   },
   "outputs": [
    {
     "name": "stdout",
     "output_type": "stream",
     "text": [
      "range(0, 10)\n"
     ]
    }
   ],
   "source": [
    "print(range(10))"
   ]
  },
  {
   "cell_type": "code",
   "execution_count": 24,
   "metadata": {
    "collapsed": false
   },
   "outputs": [
    {
     "name": "stdout",
     "output_type": "stream",
     "text": [
      "[0, 1, 2, 3, 4, 5, 6, 7, 8, 9]\n"
     ]
    }
   ],
   "source": [
    "print(list(range(10)))"
   ]
  },
  {
   "cell_type": "code",
   "execution_count": 25,
   "metadata": {
    "collapsed": false,
    "scrolled": true
   },
   "outputs": [
    {
     "name": "stdout",
     "output_type": "stream",
     "text": [
      "0\n",
      "1\n",
      "2\n",
      "3\n",
      "4\n",
      "5\n",
      "6\n",
      "7\n",
      "8\n",
      "9\n",
      "10\n",
      "11\n",
      "12\n",
      "13\n",
      "14\n",
      "15\n",
      "16\n",
      "17\n",
      "18\n",
      "19\n",
      "20\n",
      "21\n",
      "22\n",
      "23\n",
      "24\n",
      "25\n",
      "26\n",
      "27\n",
      "28\n",
      "29\n",
      "30\n",
      "31\n",
      "32\n",
      "33\n",
      "34\n",
      "35\n",
      "36\n",
      "37\n",
      "38\n",
      "39\n",
      "40\n",
      "41\n",
      "42\n",
      "43\n",
      "44\n",
      "45\n",
      "46\n",
      "47\n",
      "48\n",
      "49\n",
      "50\n",
      "51\n",
      "52\n",
      "53\n",
      "54\n",
      "55\n",
      "56\n",
      "57\n",
      "58\n",
      "59\n",
      "60\n",
      "61\n",
      "62\n",
      "63\n",
      "64\n",
      "65\n",
      "66\n",
      "67\n",
      "68\n",
      "69\n",
      "70\n",
      "71\n",
      "72\n",
      "73\n",
      "74\n",
      "75\n",
      "76\n",
      "77\n",
      "78\n",
      "79\n",
      "80\n",
      "81\n",
      "82\n",
      "83\n",
      "84\n",
      "85\n",
      "86\n",
      "87\n",
      "88\n",
      "89\n",
      "90\n",
      "91\n",
      "92\n",
      "93\n",
      "94\n",
      "95\n",
      "96\n",
      "97\n",
      "98\n",
      "99\n",
      "100\n",
      "101\n",
      "102\n",
      "103\n",
      "104\n",
      "105\n",
      "106\n",
      "107\n",
      "108\n",
      "109\n",
      "110\n",
      "111\n",
      "112\n",
      "113\n",
      "114\n",
      "115\n",
      "116\n",
      "117\n",
      "118\n",
      "119\n",
      "120\n",
      "121\n",
      "122\n",
      "123\n",
      "124\n",
      "125\n",
      "126\n",
      "127\n",
      "128\n",
      "129\n",
      "130\n",
      "131\n",
      "132\n",
      "133\n",
      "134\n",
      "135\n",
      "136\n",
      "137\n",
      "138\n",
      "139\n",
      "140\n",
      "141\n",
      "142\n",
      "143\n",
      "144\n",
      "145\n",
      "146\n",
      "147\n",
      "148\n",
      "149\n",
      "150\n",
      "151\n",
      "152\n",
      "153\n",
      "154\n",
      "155\n",
      "156\n",
      "157\n",
      "158\n",
      "159\n",
      "160\n",
      "161\n",
      "162\n",
      "163\n",
      "164\n",
      "165\n",
      "166\n",
      "167\n",
      "168\n",
      "169\n",
      "170\n",
      "171\n",
      "172\n",
      "173\n",
      "174\n",
      "175\n",
      "176\n",
      "177\n",
      "178\n",
      "179\n",
      "180\n",
      "181\n",
      "182\n",
      "183\n",
      "184\n",
      "185\n",
      "186\n",
      "187\n",
      "188\n",
      "189\n",
      "190\n",
      "191\n",
      "192\n",
      "193\n",
      "194\n",
      "195\n",
      "196\n",
      "197\n",
      "198\n",
      "199\n",
      "200\n",
      "201\n",
      "202\n",
      "203\n",
      "204\n",
      "205\n",
      "206\n",
      "207\n",
      "208\n",
      "209\n",
      "210\n",
      "211\n",
      "212\n",
      "213\n",
      "214\n",
      "215\n",
      "216\n",
      "217\n",
      "218\n",
      "219\n",
      "220\n",
      "221\n",
      "222\n",
      "223\n",
      "224\n",
      "225\n",
      "226\n",
      "227\n",
      "228\n",
      "229\n",
      "230\n",
      "231\n",
      "232\n",
      "233\n",
      "234\n",
      "235\n",
      "236\n",
      "237\n",
      "238\n",
      "239\n",
      "240\n",
      "241\n",
      "242\n",
      "243\n",
      "244\n",
      "245\n",
      "246\n",
      "247\n",
      "248\n",
      "249\n",
      "250\n",
      "251\n",
      "252\n",
      "253\n",
      "254\n",
      "255\n",
      "256\n",
      "257\n",
      "258\n",
      "259\n",
      "260\n",
      "261\n",
      "262\n",
      "263\n",
      "264\n",
      "265\n",
      "266\n",
      "267\n",
      "268\n",
      "269\n",
      "270\n",
      "271\n",
      "272\n",
      "273\n",
      "274\n",
      "275\n",
      "276\n",
      "277\n",
      "278\n",
      "279\n",
      "280\n",
      "281\n",
      "282\n",
      "283\n",
      "284\n",
      "285\n",
      "286\n",
      "287\n",
      "288\n",
      "289\n",
      "290\n",
      "291\n",
      "292\n",
      "293\n",
      "294\n",
      "295\n",
      "296\n",
      "297\n",
      "298\n",
      "299\n",
      "300\n",
      "301\n",
      "302\n",
      "303\n",
      "304\n",
      "305\n",
      "306\n",
      "307\n",
      "308\n",
      "309\n",
      "310\n",
      "311\n",
      "312\n",
      "313\n",
      "314\n",
      "315\n",
      "316\n",
      "317\n",
      "318\n",
      "319\n",
      "320\n",
      "321\n",
      "322\n",
      "323\n",
      "324\n",
      "325\n",
      "326\n",
      "327\n",
      "328\n",
      "329\n",
      "330\n",
      "331\n",
      "332\n",
      "333\n",
      "334\n",
      "335\n",
      "336\n",
      "337\n",
      "338\n",
      "339\n",
      "340\n",
      "341\n",
      "342\n",
      "343\n",
      "344\n",
      "345\n",
      "346\n",
      "347\n",
      "348\n",
      "349\n",
      "350\n",
      "351\n",
      "352\n",
      "353\n",
      "354\n",
      "355\n",
      "356\n",
      "357\n",
      "358\n",
      "359\n",
      "360\n",
      "361\n",
      "362\n",
      "363\n",
      "364\n",
      "365\n",
      "366\n",
      "367\n",
      "368\n",
      "369\n",
      "370\n",
      "371\n",
      "372\n",
      "373\n",
      "374\n",
      "375\n",
      "376\n",
      "377\n",
      "378\n",
      "379\n",
      "380\n",
      "381\n",
      "382\n",
      "383\n",
      "384\n",
      "385\n",
      "386\n",
      "387\n",
      "388\n",
      "389\n",
      "390\n",
      "391\n",
      "392\n",
      "393\n",
      "394\n",
      "395\n",
      "396\n",
      "397\n",
      "398\n",
      "399\n",
      "400\n",
      "401\n",
      "402\n",
      "403\n",
      "404\n",
      "405\n",
      "406\n",
      "407\n",
      "408\n",
      "409\n",
      "410\n",
      "411\n",
      "412\n",
      "413\n",
      "414\n",
      "415\n",
      "416\n",
      "417\n",
      "418\n",
      "419\n",
      "420\n",
      "421\n",
      "422\n",
      "423\n",
      "424\n",
      "425\n",
      "426\n",
      "427\n",
      "428\n",
      "429\n",
      "430\n",
      "431\n",
      "432\n",
      "433\n",
      "434\n",
      "435\n",
      "436\n",
      "437\n",
      "438\n",
      "439\n",
      "440\n",
      "441\n",
      "442\n",
      "443\n",
      "444\n",
      "445\n",
      "446\n",
      "447\n",
      "448\n",
      "449\n",
      "450\n",
      "451\n",
      "452\n",
      "453\n",
      "454\n",
      "455\n",
      "456\n",
      "457\n",
      "458\n",
      "459\n",
      "460\n",
      "461\n",
      "462\n",
      "463\n",
      "464\n",
      "465\n",
      "466\n",
      "467\n",
      "468\n",
      "469\n",
      "470\n",
      "471\n",
      "472\n",
      "473\n",
      "474\n",
      "475\n",
      "476\n",
      "477\n",
      "478\n",
      "479\n",
      "480\n",
      "481\n",
      "482\n",
      "483\n",
      "484\n",
      "485\n",
      "486\n",
      "487\n",
      "488\n",
      "489\n",
      "490\n",
      "491\n",
      "492\n",
      "493\n",
      "494\n",
      "495\n",
      "496\n",
      "497\n",
      "498\n",
      "499\n",
      "500\n",
      "501\n",
      "502\n",
      "503\n",
      "504\n",
      "505\n",
      "506\n",
      "507\n",
      "508\n",
      "509\n",
      "510\n",
      "511\n",
      "512\n",
      "513\n",
      "514\n",
      "515\n",
      "516\n",
      "517\n",
      "518\n",
      "519\n",
      "520\n",
      "521\n",
      "522\n",
      "523\n",
      "524\n",
      "525\n",
      "526\n",
      "527\n",
      "528\n",
      "529\n",
      "530\n",
      "531\n",
      "532\n",
      "533\n",
      "534\n",
      "535\n",
      "536\n",
      "537\n",
      "538\n",
      "539\n",
      "540\n",
      "541\n",
      "542\n",
      "543\n",
      "544\n",
      "545\n",
      "546\n",
      "547\n",
      "548\n",
      "549\n",
      "550\n",
      "551\n",
      "552\n",
      "553\n",
      "554\n",
      "555\n",
      "556\n",
      "557\n",
      "558\n",
      "559\n",
      "560\n",
      "561\n",
      "562\n",
      "563\n",
      "564\n",
      "565\n",
      "566\n",
      "567\n",
      "568\n",
      "569\n",
      "570\n",
      "571\n",
      "572\n",
      "573\n",
      "574\n",
      "575\n",
      "576\n",
      "577\n",
      "578\n",
      "579\n",
      "580\n",
      "581\n",
      "582\n",
      "583\n",
      "584\n",
      "585\n",
      "586\n",
      "587\n",
      "588\n",
      "589\n",
      "590\n",
      "591\n",
      "592\n",
      "593\n",
      "594\n",
      "595\n",
      "596\n",
      "597\n",
      "598\n",
      "599\n",
      "600\n",
      "601\n",
      "602\n",
      "603\n",
      "604\n",
      "605\n",
      "606\n",
      "607\n",
      "608\n",
      "609\n",
      "610\n",
      "611\n",
      "612\n",
      "613\n",
      "614\n",
      "615\n",
      "616\n",
      "617\n",
      "618\n",
      "619\n",
      "620\n",
      "621\n",
      "622\n",
      "623\n",
      "624\n",
      "625\n",
      "626\n",
      "627\n",
      "628\n",
      "629\n",
      "630\n",
      "631\n",
      "632\n",
      "633\n",
      "634\n",
      "635\n",
      "636\n",
      "637\n",
      "638\n",
      "639\n",
      "640\n",
      "641\n",
      "642\n",
      "643\n",
      "644\n",
      "645\n",
      "646\n",
      "647\n",
      "648\n",
      "649\n",
      "650\n",
      "651\n",
      "652\n",
      "653\n",
      "654\n",
      "655\n",
      "656\n",
      "657\n",
      "658\n",
      "659\n",
      "660\n",
      "661\n",
      "662\n",
      "663\n",
      "664\n",
      "665\n",
      "666\n",
      "667\n",
      "668\n",
      "669\n",
      "670\n",
      "671\n",
      "672\n",
      "673\n",
      "674\n",
      "675\n",
      "676\n",
      "677\n",
      "678\n",
      "679\n",
      "680\n",
      "681\n",
      "682\n",
      "683\n",
      "684\n",
      "685\n",
      "686\n",
      "687\n",
      "688\n",
      "689\n",
      "690\n",
      "691\n",
      "692\n",
      "693\n",
      "694\n",
      "695\n",
      "696\n",
      "697\n",
      "698\n",
      "699\n",
      "700\n",
      "701\n",
      "702\n",
      "703\n",
      "704\n",
      "705\n",
      "706\n",
      "707\n",
      "708\n",
      "709\n",
      "710\n",
      "711\n",
      "712\n",
      "713\n",
      "714\n",
      "715\n",
      "716\n",
      "717\n",
      "718\n",
      "719\n",
      "720\n",
      "721\n",
      "722\n",
      "723\n",
      "724\n",
      "725\n",
      "726\n",
      "727\n",
      "728\n",
      "729\n",
      "730\n",
      "731\n",
      "732\n",
      "733\n",
      "734\n",
      "735\n",
      "736\n",
      "737\n",
      "738\n",
      "739\n",
      "740\n",
      "741\n",
      "742\n",
      "743\n",
      "744\n",
      "745\n",
      "746\n",
      "747\n",
      "748\n",
      "749\n",
      "750\n",
      "751\n",
      "752\n",
      "753\n",
      "754\n",
      "755\n",
      "756\n",
      "757\n",
      "758\n",
      "759\n",
      "760\n",
      "761\n",
      "762\n",
      "763\n",
      "764\n",
      "765\n",
      "766\n",
      "767\n",
      "768\n",
      "769\n",
      "770\n",
      "771\n",
      "772\n",
      "773\n",
      "774\n",
      "775\n",
      "776\n",
      "777\n",
      "778\n",
      "779\n",
      "780\n",
      "781\n",
      "782\n",
      "783\n",
      "784\n",
      "785\n",
      "786\n",
      "787\n",
      "788\n",
      "789\n",
      "790\n",
      "791\n",
      "792\n",
      "793\n",
      "794\n",
      "795\n",
      "796\n",
      "797\n",
      "798\n",
      "799\n",
      "800\n",
      "801\n",
      "802\n",
      "803\n",
      "804\n",
      "805\n",
      "806\n",
      "807\n",
      "808\n",
      "809\n",
      "810\n",
      "811\n",
      "812\n",
      "813\n",
      "814\n",
      "815\n",
      "816\n",
      "817\n",
      "818\n",
      "819\n",
      "820\n",
      "821\n",
      "822\n",
      "823\n",
      "824\n",
      "825\n",
      "826\n",
      "827\n",
      "828\n",
      "829\n",
      "830\n",
      "831\n",
      "832\n",
      "833\n",
      "834\n",
      "835\n",
      "836\n",
      "837\n",
      "838\n",
      "839\n",
      "840\n",
      "841\n",
      "842\n",
      "843\n",
      "844\n",
      "845\n",
      "846\n",
      "847\n",
      "848\n",
      "849\n",
      "850\n",
      "851\n",
      "852\n",
      "853\n",
      "854\n",
      "855\n",
      "856\n",
      "857\n",
      "858\n",
      "859\n",
      "860\n",
      "861\n",
      "862\n",
      "863\n",
      "864\n",
      "865\n",
      "866\n",
      "867\n",
      "868\n",
      "869\n",
      "870\n",
      "871\n",
      "872\n",
      "873\n",
      "874\n",
      "875\n",
      "876\n",
      "877\n",
      "878\n",
      "879\n",
      "880\n",
      "881\n",
      "882\n",
      "883\n",
      "884\n",
      "885\n",
      "886\n",
      "887\n",
      "888\n",
      "889\n",
      "890\n",
      "891\n",
      "892\n",
      "893\n",
      "894\n",
      "895\n",
      "896\n",
      "897\n",
      "898\n",
      "899\n",
      "900\n",
      "901\n",
      "902\n",
      "903\n",
      "904\n",
      "905\n",
      "906\n",
      "907\n",
      "908\n",
      "909\n",
      "910\n",
      "911\n",
      "912\n",
      "913\n",
      "914\n",
      "915\n",
      "916\n",
      "917\n",
      "918\n",
      "919\n",
      "920\n",
      "921\n",
      "922\n",
      "923\n",
      "924\n",
      "925\n",
      "926\n",
      "927\n",
      "928\n",
      "929\n",
      "930\n",
      "931\n",
      "932\n",
      "933\n",
      "934\n",
      "935\n",
      "936\n",
      "937\n",
      "938\n",
      "939\n",
      "940\n",
      "941\n",
      "942\n",
      "943\n",
      "944\n",
      "945\n",
      "946\n",
      "947\n",
      "948\n",
      "949\n",
      "950\n",
      "951\n",
      "952\n",
      "953\n",
      "954\n",
      "955\n",
      "956\n",
      "957\n",
      "958\n",
      "959\n",
      "960\n",
      "961\n",
      "962\n",
      "963\n",
      "964\n",
      "965\n",
      "966\n",
      "967\n",
      "968\n",
      "969\n",
      "970\n",
      "971\n",
      "972\n",
      "973\n",
      "974\n",
      "975\n",
      "976\n",
      "977\n",
      "978\n",
      "979\n",
      "980\n",
      "981\n",
      "982\n",
      "983\n",
      "984\n",
      "985\n",
      "986\n",
      "987\n",
      "988\n",
      "989\n",
      "990\n",
      "991\n",
      "992\n",
      "993\n",
      "994\n",
      "995\n",
      "996\n",
      "997\n",
      "998\n",
      "999\n"
     ]
    }
   ],
   "source": [
    "for i in range(1000):\n",
    "    print(i)"
   ]
  },
  {
   "cell_type": "markdown",
   "metadata": {},
   "source": [
    "* You can pass optional arguments to range"
   ]
  },
  {
   "cell_type": "code",
   "execution_count": 26,
   "metadata": {
    "collapsed": false
   },
   "outputs": [
    {
     "name": "stdout",
     "output_type": "stream",
     "text": [
      "10\n",
      "11\n",
      "12\n",
      "13\n",
      "14\n",
      "15\n",
      "16\n",
      "17\n",
      "18\n",
      "19\n"
     ]
    }
   ],
   "source": [
    "for i in range(10, 20):\n",
    "    print(i)"
   ]
  },
  {
   "cell_type": "code",
   "execution_count": 27,
   "metadata": {
    "collapsed": false
   },
   "outputs": [
    {
     "name": "stdout",
     "output_type": "stream",
     "text": [
      "10\n",
      "13\n",
      "16\n",
      "19\n"
     ]
    }
   ],
   "source": [
    "for i in range(10, 20, 3):\n",
    "    print(i)"
   ]
  },
  {
   "cell_type": "markdown",
   "metadata": {},
   "source": [
    "# Exceptions\n",
    "Exceptions are simple, just remember that `raise` is python's version of java's `throw` and `except` is pythons version of `catch`."
   ]
  },
  {
   "cell_type": "code",
   "execution_count": 28,
   "metadata": {
    "collapsed": false
   },
   "outputs": [
    {
     "name": "stdout",
     "output_type": "stream",
     "text": [
      "Give me an intint\n",
      "Give me an intwhat\n",
      "Give me an int3.4\n",
      "Give me an int3\n"
     ]
    }
   ],
   "source": [
    "x = None\n",
    "while x is None:\n",
    "    try:\n",
    "        x = int(input('Give me an int'))\n",
    "    except ValueError:\n",
    "        pass # pass does nothing and lets you skip putting something in a block of code."
   ]
  },
  {
   "cell_type": "markdown",
   "metadata": {},
   "source": [
    "# Files"
   ]
  },
  {
   "cell_type": "code",
   "execution_count": 29,
   "metadata": {
    "collapsed": false
   },
   "outputs": [],
   "source": [
    "f = open('textfile.txt', 'w')\n",
    "f.write('hello')\n",
    "f.close()"
   ]
  },
  {
   "cell_type": "markdown",
   "metadata": {},
   "source": [
    "It's much better to use a context manager `with`, it will always close your file even if you forget or an exception causes your program to skip your line calling `close`"
   ]
  },
  {
   "cell_type": "code",
   "execution_count": 30,
   "metadata": {
    "collapsed": true
   },
   "outputs": [],
   "source": [
    "with open('textfile.txt', 'w') as f:\n",
    "    f.write('hello')"
   ]
  },
  {
   "cell_type": "markdown",
   "metadata": {},
   "source": [
    "That second argument can be one of a combination of the following letters\n",
    "* a - appends text to end of file\n",
    "* w - clears and writes to file\n",
    "* r - open a file for reading\n",
    "* t - read a file as a text file\n",
    "* b - read a file as raw binary (used for things like pictures)"
   ]
  },
  {
   "cell_type": "code",
   "execution_count": 31,
   "metadata": {
    "collapsed": false
   },
   "outputs": [
    {
     "name": "stdout",
     "output_type": "stream",
     "text": [
      "hello\n",
      "['hello']\n"
     ]
    }
   ],
   "source": [
    "with open('textfile.txt', 'r') as f:\n",
    "    print(f.read())\n",
    "with open('textfile.txt') as f:\n",
    "    print(f.readlines())"
   ]
  },
  {
   "cell_type": "markdown",
   "metadata": {},
   "source": [
    "# Functions"
   ]
  },
  {
   "cell_type": "code",
   "execution_count": 32,
   "metadata": {
    "collapsed": false
   },
   "outputs": [
    {
     "name": "stdout",
     "output_type": "stream",
     "text": [
      "100\n"
     ]
    }
   ],
   "source": [
    "def square(x):\n",
    "    return x ** 2\n",
    "print(square(10))"
   ]
  },
  {
   "cell_type": "code",
   "execution_count": 33,
   "metadata": {
    "collapsed": false
   },
   "outputs": [
    {
     "name": "stdout",
     "output_type": "stream",
     "text": [
      "8\n"
     ]
    }
   ],
   "source": [
    "def power(base, power):\n",
    "    return base ** power\n",
    "print(power(2, 3))"
   ]
  },
  {
   "cell_type": "code",
   "execution_count": 34,
   "metadata": {
    "collapsed": false
   },
   "outputs": [
    {
     "name": "stdout",
     "output_type": "stream",
     "text": [
      "8\n"
     ]
    }
   ],
   "source": [
    "# Can access by name\n",
    "print(power(power=3, base=2))"
   ]
  },
  {
   "cell_type": "markdown",
   "metadata": {},
   "source": [
    "# Default arguments\n",
    "* Once you give a default all following parameters must have a default"
   ]
  },
  {
   "cell_type": "code",
   "execution_count": 35,
   "metadata": {
    "collapsed": false
   },
   "outputs": [
    {
     "ename": "SyntaxError",
     "evalue": "non-default argument follows default argument (<ipython-input-35-0b7aa2f6286d>, line 1)",
     "output_type": "error",
     "traceback": [
      "\u001b[0;36m  File \u001b[0;32m\"<ipython-input-35-0b7aa2f6286d>\"\u001b[0;36m, line \u001b[0;32m1\u001b[0m\n\u001b[0;31m    def power(base=3, power):\u001b[0m\n\u001b[0m             ^\u001b[0m\n\u001b[0;31mSyntaxError\u001b[0m\u001b[0;31m:\u001b[0m non-default argument follows default argument\n"
     ]
    }
   ],
   "source": [
    "def power(base=3, power):\n",
    "    return base ** power"
   ]
  },
  {
   "cell_type": "code",
   "execution_count": 36,
   "metadata": {
    "collapsed": false
   },
   "outputs": [],
   "source": [
    "def power(base, power=2):\n",
    "    return base ** power"
   ]
  },
  {
   "cell_type": "code",
   "execution_count": 37,
   "metadata": {
    "collapsed": false
   },
   "outputs": [
    {
     "name": "stdout",
     "output_type": "stream",
     "text": [
      "16\n"
     ]
    }
   ],
   "source": [
    "print(power(4))"
   ]
  },
  {
   "cell_type": "code",
   "execution_count": 38,
   "metadata": {
    "collapsed": false
   },
   "outputs": [
    {
     "name": "stdout",
     "output_type": "stream",
     "text": [
      "1024\n"
     ]
    }
   ],
   "source": [
    "print(power(4, 5))"
   ]
  },
  {
   "cell_type": "markdown",
   "metadata": {},
   "source": [
    "# Classes"
   ]
  },
  {
   "cell_type": "code",
   "execution_count": 39,
   "metadata": {
    "collapsed": false
   },
   "outputs": [],
   "source": [
    "class Car:\n",
    "    def __init__(self, speed):\n",
    "        self.speed = speed"
   ]
  },
  {
   "cell_type": "code",
   "execution_count": 40,
   "metadata": {
    "collapsed": false
   },
   "outputs": [
    {
     "name": "stdout",
     "output_type": "stream",
     "text": [
      "<__main__.Car object at 0x0000025D74A10898>\n",
      "20\n"
     ]
    }
   ],
   "source": [
    "my_car = Car(20)\n",
    "print(my_car)\n",
    "print(my_car.speed)"
   ]
  },
  {
   "cell_type": "code",
   "execution_count": 41,
   "metadata": {
    "collapsed": true
   },
   "outputs": [],
   "source": [
    "class Car:\n",
    "    def __init__(self, speed):\n",
    "        self.speed = speed\n",
    "\n",
    "    def __str__(self):\n",
    "        return f'Car({self.speed})'"
   ]
  },
  {
   "cell_type": "code",
   "execution_count": 42,
   "metadata": {
    "collapsed": false
   },
   "outputs": [
    {
     "name": "stdout",
     "output_type": "stream",
     "text": [
      "Car(20)\n",
      "20\n"
     ]
    }
   ],
   "source": [
    "my_car = Car(20)\n",
    "print(my_car)\n",
    "print(my_car.speed)"
   ]
  },
  {
   "cell_type": "markdown",
   "metadata": {},
   "source": [
    "# Namedtuples"
   ]
  },
  {
   "cell_type": "code",
   "execution_count": 43,
   "metadata": {
    "collapsed": false
   },
   "outputs": [],
   "source": [
    "from collections import namedtuple\n",
    "FullName = namedtuple('FullName', ('first', 'last', 'nickname'))\n",
    "myName = FullName('Daniel', 'Bramucci', nickname='Danny')"
   ]
  },
  {
   "cell_type": "code",
   "execution_count": 44,
   "metadata": {
    "collapsed": false
   },
   "outputs": [
    {
     "name": "stdout",
     "output_type": "stream",
     "text": [
      "Daniel\n",
      "FullName(first='Daniel', last='Bramucci', nickname='Danny')\n",
      "Bramucci\n",
      "Danny\n"
     ]
    }
   ],
   "source": [
    "print(myName.first)\n",
    "print(myName)\n",
    "print(myName.last)\n",
    "print(myName.nickname)"
   ]
  },
  {
   "cell_type": "markdown",
   "metadata": {},
   "source": [
    "# Pythonic code\n",
    "* Dictionaries are really useful for making associations between things\n",
    "* You can think of them as lists that let you use non numbers as indices."
   ]
  },
  {
   "cell_type": "code",
   "execution_count": 45,
   "metadata": {
    "collapsed": false
   },
   "outputs": [
    {
     "name": "stdout",
     "output_type": "stream",
     "text": [
      ">>>apple\n",
      ">>>pizza\n",
      ">>>pizza\n",
      ">>>skyrim\n",
      ">>>stop\n",
      "81\n"
     ]
    }
   ],
   "source": [
    "prices = {'apple': 1,\n",
    "          'pizza': 10,\n",
    "          'skyrim': 60\n",
    "         }\n",
    "total = 0\n",
    "item = input('>>>')\n",
    "while item != 'stop':\n",
    "    total += prices[item]\n",
    "    item = input('>>>')\n",
    "print(total)"
   ]
  },
  {
   "cell_type": "markdown",
   "metadata": {},
   "source": [
    "# Slicing\n",
    "* Works on strings, lists, tuples and more"
   ]
  },
  {
   "cell_type": "code",
   "execution_count": 46,
   "metadata": {
    "collapsed": false
   },
   "outputs": [],
   "source": [
    "from string import ascii_letters"
   ]
  },
  {
   "cell_type": "code",
   "execution_count": 47,
   "metadata": {
    "collapsed": false
   },
   "outputs": [
    {
     "name": "stdout",
     "output_type": "stream",
     "text": [
      "abcdefghijklmnopqrstuvwxyzABCDEFGHIJKLMNOPQRSTUVWXYZ\n",
      "abcdefghijklmnopqrstuvwxyz\n",
      "ABCDEFGHIJKLMNOPQRSTUVWXYZ\n"
     ]
    }
   ],
   "source": [
    "print(ascii_letters)\n",
    "lowercase = ascii_letters[:26]\n",
    "print(lowercase)\n",
    "uppercase = ascii_letters[26:]\n",
    "print(uppercase)\n",
    "# Note you should just\n",
    "from string import ascii_lowercase, ascii_uppercase"
   ]
  },
  {
   "cell_type": "markdown",
   "metadata": {},
   "source": [
    "# Quick Sobriety Test\n",
    "* Spell the alphabet backwards"
   ]
  },
  {
   "cell_type": "code",
   "execution_count": 48,
   "metadata": {
    "collapsed": false
   },
   "outputs": [
    {
     "name": "stdout",
     "output_type": "stream",
     "text": [
      "ZYXWVUTSRQPONMLKJIHGFEDCBA\n",
      "ZYXWVUTSRQPONMLKJIHGFEDCBA\n",
      "ZYXWVUTSRQPONMLKJIHGFEDCB\n",
      "ZYXWVUTSRQPONMLKJIHGFEDCBA\n"
     ]
    }
   ],
   "source": [
    "import string\n",
    "print(string.ascii_uppercase[::-1])\n",
    "print(string.ascii_uppercase[26::-1])\n",
    "print(string.ascii_uppercase[26:0:-1])\n",
    "print(string.ascii_uppercase[26::-1])"
   ]
  },
  {
   "cell_type": "code",
   "execution_count": 49,
   "metadata": {
    "collapsed": false
   },
   "outputs": [
    {
     "name": "stdout",
     "output_type": "stream",
     "text": [
      "eh\n"
     ]
    }
   ],
   "source": [
    "start = 4\n",
    "stop = 10\n",
    "step = 3\n",
    "print(string.ascii_lowercase[start:stop:step])"
   ]
  },
  {
   "cell_type": "markdown",
   "metadata": {},
   "source": [
    "# Print the last of a list"
   ]
  },
  {
   "cell_type": "code",
   "execution_count": 50,
   "metadata": {
    "collapsed": false
   },
   "outputs": [
    {
     "name": "stdout",
     "output_type": "stream",
     "text": [
      "z\n",
      "z\n",
      "Length is 3\n"
     ]
    }
   ],
   "source": [
    "from string import ascii_lowercase\n",
    "print(ascii_lowercase[-1])\n",
    "print(ascii_lowercase[len(ascii_lowercase)-1])\n",
    "# sidenote, the length of anything in python should be found using\n",
    "thing = [2, 56, 3]\n",
    "print(f'Length is {len(thing)}')"
   ]
  },
  {
   "cell_type": "markdown",
   "metadata": {},
   "source": [
    "# Fancymode"
   ]
  },
  {
   "cell_type": "markdown",
   "metadata": {},
   "source": [
    "# My favorite instruments"
   ]
  },
  {
   "cell_type": "code",
   "execution_count": 51,
   "metadata": {
    "collapsed": false
   },
   "outputs": [
    {
     "name": "stdout",
     "output_type": "stream",
     "text": [
      "['clarinet', 'guitar', 'piano', 'flute']\n",
      "['guitar', 'piano']\n",
      "['clarinet', 'electric guitar', 'harpsichord', 'flute']\n"
     ]
    }
   ],
   "source": [
    "favorites = ['clarinet', 'guitar', 'piano', 'flute']\n",
    "print(favorites)\n",
    "print(favorites[1:3])\n",
    "favorites[1:3] = 'electric guitar', 'harpsichord'\n",
    "print(favorites)"
   ]
  },
  {
   "cell_type": "markdown",
   "metadata": {
    "collapsed": false
   },
   "source": [
    "This doesn't work for strings, tuples or bytes because they are immutable"
   ]
  },
  {
   "cell_type": "code",
   "execution_count": 52,
   "metadata": {
    "collapsed": false
   },
   "outputs": [
    {
     "ename": "TypeError",
     "evalue": "'str' object does not support item assignment",
     "output_type": "error",
     "traceback": [
      "\u001b[0;31m---------------------------------------------------------------------------\u001b[0m",
      "\u001b[0;31mTypeError\u001b[0m                                 Traceback (most recent call last)",
      "\u001b[0;32m<ipython-input-52-854e080d97f9>\u001b[0m in \u001b[0;36m<module>\u001b[0;34m()\u001b[0m\n\u001b[1;32m      1\u001b[0m \u001b[1;32mfrom\u001b[0m \u001b[0mstring\u001b[0m \u001b[1;32mimport\u001b[0m \u001b[0mascii_lowercase\u001b[0m\u001b[1;33m\u001b[0m\u001b[0m\n\u001b[0;32m----> 2\u001b[0;31m \u001b[0mascii_lowercase\u001b[0m\u001b[1;33m[\u001b[0m\u001b[1;36m1\u001b[0m\u001b[1;33m:\u001b[0m\u001b[1;36m3\u001b[0m\u001b[1;33m]\u001b[0m \u001b[1;33m=\u001b[0m \u001b[1;34m'あ'\u001b[0m\u001b[1;33m,\u001b[0m \u001b[1;34m'い'\u001b[0m\u001b[1;33m\u001b[0m\u001b[0m\n\u001b[0m\u001b[1;32m      3\u001b[0m \u001b[0mprint\u001b[0m\u001b[1;33m(\u001b[0m\u001b[0mascii_lowercase\u001b[0m\u001b[1;33m)\u001b[0m\u001b[1;33m\u001b[0m\u001b[0m\n",
      "\u001b[0;31mTypeError\u001b[0m: 'str' object does not support item assignment"
     ]
    }
   ],
   "source": [
    "from string import ascii_lowercase\n",
    "ascii_lowercase[1:3] = 'あ', 'い'\n",
    "print(ascii_lowercase)"
   ]
  },
  {
   "cell_type": "markdown",
   "metadata": {},
   "source": [
    "# Loop over two lists at once"
   ]
  },
  {
   "cell_type": "code",
   "execution_count": 53,
   "metadata": {
    "collapsed": false
   },
   "outputs": [
    {
     "name": "stdout",
     "output_type": "stream",
     "text": [
      "-\n",
      "A\n",
      "a\n",
      "-\n",
      "\n",
      "-\n",
      "B\n",
      "b\n",
      "-\n",
      "\n",
      "-\n",
      "C\n",
      "c\n",
      "-\n",
      "\n",
      "-\n",
      "D\n",
      "d\n",
      "-\n",
      "\n",
      "-\n",
      "E\n",
      "e\n",
      "-\n",
      "\n",
      "-\n",
      "F\n",
      "f\n",
      "-\n",
      "\n",
      "-\n",
      "G\n",
      "g\n",
      "-\n",
      "\n",
      "-\n",
      "H\n",
      "h\n",
      "-\n",
      "\n",
      "-\n",
      "I\n",
      "i\n",
      "-\n",
      "\n",
      "-\n",
      "J\n",
      "j\n",
      "-\n",
      "\n",
      "-\n",
      "K\n",
      "k\n",
      "-\n",
      "\n",
      "-\n",
      "L\n",
      "l\n",
      "-\n",
      "\n",
      "-\n",
      "M\n",
      "m\n",
      "-\n",
      "\n",
      "-\n",
      "N\n",
      "n\n",
      "-\n",
      "\n",
      "-\n",
      "O\n",
      "o\n",
      "-\n",
      "\n",
      "-\n",
      "P\n",
      "p\n",
      "-\n",
      "\n",
      "-\n",
      "Q\n",
      "q\n",
      "-\n",
      "\n",
      "-\n",
      "R\n",
      "r\n",
      "-\n",
      "\n",
      "-\n",
      "S\n",
      "s\n",
      "-\n",
      "\n",
      "-\n",
      "T\n",
      "t\n",
      "-\n",
      "\n",
      "-\n",
      "U\n",
      "u\n",
      "-\n",
      "\n",
      "-\n",
      "V\n",
      "v\n",
      "-\n",
      "\n",
      "-\n",
      "W\n",
      "w\n",
      "-\n",
      "\n",
      "-\n",
      "X\n",
      "x\n",
      "-\n",
      "\n",
      "-\n",
      "Y\n",
      "y\n",
      "-\n",
      "\n",
      "-\n",
      "Z\n",
      "z\n",
      "-\n",
      "\n"
     ]
    }
   ],
   "source": [
    "from string import ascii_lowercase, ascii_uppercase\n",
    "for upper, lower in zip(ascii_uppercase, ascii_lowercase):\n",
    "    print('-')\n",
    "    print(upper)\n",
    "    print(lower)\n",
    "    print('-')\n",
    "    print()"
   ]
  },
  {
   "cell_type": "markdown",
   "metadata": {},
   "source": [
    "# Tuples are like lists that you can't change after you've made them"
   ]
  },
  {
   "cell_type": "code",
   "execution_count": 54,
   "metadata": {
    "collapsed": false
   },
   "outputs": [
    {
     "name": "stdout",
     "output_type": "stream",
     "text": [
      "Is x equal to y: True\n",
      "Is x the same object as y: False\n",
      "(1,)\n"
     ]
    }
   ],
   "source": [
    "x = (1, 2, 3)\n",
    "y = 1, 2, 3\n",
    "print(f'Is x equal to y: {x == y}')\n",
    "print(f'Is x the same object as y: {x is y}')\n",
    "j = 1, \n",
    "print(j)"
   ]
  },
  {
   "cell_type": "markdown",
   "metadata": {},
   "source": [
    "# Sidenote\n",
    "* Object identity checks whether two variables x and y point to the same object in memory\n",
    "* Object equality checks whether two variables x and y are equal"
   ]
  },
  {
   "cell_type": "code",
   "execution_count": 55,
   "metadata": {
    "collapsed": false
   },
   "outputs": [
    {
     "name": "stdout",
     "output_type": "stream",
     "text": [
      "Is y the same value as x: True\n",
      "Is a the same value as x: True\n",
      "Is y the same object as x: True\n",
      "Is a the same object as x: False\n",
      "x: [1, 2, 3]\n",
      "y: [1, 2, 3]\n",
      "a: [1, 2]\n"
     ]
    }
   ],
   "source": [
    "x = [1, 2]\n",
    "y = x\n",
    "a = [1, 2]\n",
    "print(f'Is y the same value as x: {y == x}')\n",
    "print(f'Is a the same value as x: {a == x}')\n",
    "print(f'Is y the same object as x: {y is x}')\n",
    "print(f'Is a the same object as x: {a is x}')\n",
    "y.append(3)\n",
    "print(f'x: {x}')\n",
    "print(f'y: {y}')\n",
    "print(f'a: {a}')"
   ]
  },
  {
   "cell_type": "markdown",
   "metadata": {},
   "source": [
    "# Unpacking"
   ]
  }
 ],
 "metadata": {
  "anaconda-cloud": {},
  "kernelspec": {
   "display_name": "Python 3",
   "language": "python",
   "name": "python3"
  },
  "language_info": {
   "codemirror_mode": {
    "name": "ipython",
    "version": 3
   },
   "file_extension": ".py",
   "mimetype": "text/x-python",
   "name": "python",
   "nbconvert_exporter": "python",
   "pygments_lexer": "ipython3",
   "version": "3.6.0"
  }
 },
 "nbformat": 4,
 "nbformat_minor": 1
}
